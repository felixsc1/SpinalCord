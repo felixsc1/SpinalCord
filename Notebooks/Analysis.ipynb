{
 "cells": [
  {
   "cell_type": "code",
   "execution_count": 1,
   "metadata": {},
   "outputs": [],
   "source": [
    "import pandas as pd\n",
    "import numpy as np\n",
    "import os, sys\n",
    "import matplotlib.pyplot as plt\n",
    "\n",
    "import scipy.stats as ss\n",
    "\n",
    "mymodules = os.fspath('../modules')\n",
    "if mymodules not in sys.path:\n",
    "    sys.path.append(mymodules)\n",
    "    \n",
    "import relaxometry as r\n",
    "import importlib\n",
    "r = importlib.reload(r)\n",
    "\n",
    "from collections import defaultdict\n",
    "\n",
    "import seaborn as sns\n",
    "\n",
    "\n",
    "%matplotlib inline"
   ]
  },
  {
   "cell_type": "code",
   "execution_count": 2,
   "metadata": {},
   "outputs": [
    {
     "name": "stderr",
     "output_type": "stream",
     "text": [
      "/home/felix/miniconda3/envs/python37/lib/python3.7/site-packages/pandas/core/frame.py:4025: SettingWithCopyWarning: \n",
      "A value is trying to be set on a copy of a slice from a DataFrame\n",
      "\n",
      "See the caveats in the documentation: http://pandas.pydata.org/pandas-docs/stable/indexing.html#indexing-view-versus-copy\n",
      "  return super(DataFrame, self).rename(**kwargs)\n",
      "../modules/relaxometry.py:68: SettingWithCopyWarning: \n",
      "A value is trying to be set on a copy of a slice from a DataFrame\n",
      "\n",
      "See the caveats in the documentation: http://pandas.pydata.org/pandas-docs/stable/indexing.html#indexing-view-versus-copy\n",
      "  df_BBB_selected.dropna(inplace=True)\n",
      "../modules/relaxometry.py:69: SettingWithCopyWarning: \n",
      "A value is trying to be set on a copy of a slice from a DataFrame.\n",
      "Try using .loc[row_indexer,col_indexer] = value instead\n",
      "\n",
      "See the caveats in the documentation: http://pandas.pydata.org/pandas-docs/stable/indexing.html#indexing-view-versus-copy\n",
      "  df_BBB_selected['id'] = df_BBB_selected['id'].astype(int)\n"
     ]
    },
    {
     "data": {
      "text/html": [
       "<div>\n",
       "<style scoped>\n",
       "    .dataframe tbody tr th:only-of-type {\n",
       "        vertical-align: middle;\n",
       "    }\n",
       "\n",
       "    .dataframe tbody tr th {\n",
       "        vertical-align: top;\n",
       "    }\n",
       "\n",
       "    .dataframe thead th {\n",
       "        text-align: right;\n",
       "    }\n",
       "</style>\n",
       "<table border=\"1\" class=\"dataframe\">\n",
       "  <thead>\n",
       "    <tr style=\"text-align: right;\">\n",
       "      <th></th>\n",
       "      <th>location_estimate</th>\n",
       "      <th>slice_number</th>\n",
       "      <th>horizontal_cross_sec</th>\n",
       "      <th>vertical_cross_sec</th>\n",
       "      <th>GM_area_cm2</th>\n",
       "      <th>GM_voxel</th>\n",
       "      <th>GM_mean</th>\n",
       "      <th>sd_gm</th>\n",
       "      <th>minimum_gm</th>\n",
       "      <th>maximum_gm</th>\n",
       "      <th>...</th>\n",
       "      <th>minimum_wm</th>\n",
       "      <th>maximum_wm</th>\n",
       "      <th>comments</th>\n",
       "      <th>group</th>\n",
       "      <th>date</th>\n",
       "      <th>id</th>\n",
       "      <th>acquisition</th>\n",
       "      <th>scan</th>\n",
       "      <th>BBB_day1</th>\n",
       "      <th>BBB_day84</th>\n",
       "    </tr>\n",
       "  </thead>\n",
       "  <tbody>\n",
       "    <tr>\n",
       "      <th>0</th>\n",
       "      <td>T6</td>\n",
       "      <td>12.0</td>\n",
       "      <td>2.84</td>\n",
       "      <td>2.68</td>\n",
       "      <td>0.02</td>\n",
       "      <td>269.0</td>\n",
       "      <td>1650.0</td>\n",
       "      <td>138.00</td>\n",
       "      <td>1450.0</td>\n",
       "      <td>2560.0</td>\n",
       "      <td>...</td>\n",
       "      <td>0.0</td>\n",
       "      <td>4650.0</td>\n",
       "      <td>NaN</td>\n",
       "      <td>sev</td>\n",
       "      <td>20181218</td>\n",
       "      <td>198</td>\n",
       "      <td>T1</td>\n",
       "      <td>E8</td>\n",
       "      <td>1.5</td>\n",
       "      <td>11.0</td>\n",
       "    </tr>\n",
       "    <tr>\n",
       "      <th>1</th>\n",
       "      <td>T6</td>\n",
       "      <td>12.0</td>\n",
       "      <td>NaN</td>\n",
       "      <td>NaN</td>\n",
       "      <td>0.02</td>\n",
       "      <td>380.0</td>\n",
       "      <td>51.8</td>\n",
       "      <td>6.76</td>\n",
       "      <td>0.0</td>\n",
       "      <td>67.4</td>\n",
       "      <td>...</td>\n",
       "      <td>0.0</td>\n",
       "      <td>175.0</td>\n",
       "      <td>NaN</td>\n",
       "      <td>sev</td>\n",
       "      <td>20181218</td>\n",
       "      <td>198</td>\n",
       "      <td>T2</td>\n",
       "      <td>E9</td>\n",
       "      <td>1.5</td>\n",
       "      <td>11.0</td>\n",
       "    </tr>\n",
       "    <tr>\n",
       "      <th>2</th>\n",
       "      <td>T6</td>\n",
       "      <td>12.0</td>\n",
       "      <td>2.95</td>\n",
       "      <td>2.42</td>\n",
       "      <td>0.02</td>\n",
       "      <td>242.0</td>\n",
       "      <td>1560.0</td>\n",
       "      <td>140.00</td>\n",
       "      <td>692.0</td>\n",
       "      <td>2220.0</td>\n",
       "      <td>...</td>\n",
       "      <td>0.0</td>\n",
       "      <td>3080.0</td>\n",
       "      <td>NaN</td>\n",
       "      <td>sev</td>\n",
       "      <td>20181219</td>\n",
       "      <td>198</td>\n",
       "      <td>T1</td>\n",
       "      <td>E7</td>\n",
       "      <td>1.5</td>\n",
       "      <td>11.0</td>\n",
       "    </tr>\n",
       "    <tr>\n",
       "      <th>3</th>\n",
       "      <td>T6</td>\n",
       "      <td>12.0</td>\n",
       "      <td>NaN</td>\n",
       "      <td>NaN</td>\n",
       "      <td>0.02</td>\n",
       "      <td>391.0</td>\n",
       "      <td>102.0</td>\n",
       "      <td>49.80</td>\n",
       "      <td>0.0</td>\n",
       "      <td>359.0</td>\n",
       "      <td>...</td>\n",
       "      <td>0.0</td>\n",
       "      <td>611.0</td>\n",
       "      <td>NaN</td>\n",
       "      <td>sev</td>\n",
       "      <td>20181219</td>\n",
       "      <td>198</td>\n",
       "      <td>T2</td>\n",
       "      <td>E8</td>\n",
       "      <td>1.5</td>\n",
       "      <td>11.0</td>\n",
       "    </tr>\n",
       "    <tr>\n",
       "      <th>4</th>\n",
       "      <td>T6</td>\n",
       "      <td>28.0</td>\n",
       "      <td>3.05</td>\n",
       "      <td>2.35</td>\n",
       "      <td>0.02</td>\n",
       "      <td>228.0</td>\n",
       "      <td>1540.0</td>\n",
       "      <td>352.00</td>\n",
       "      <td>0.0</td>\n",
       "      <td>2620.0</td>\n",
       "      <td>...</td>\n",
       "      <td>0.0</td>\n",
       "      <td>3180.0</td>\n",
       "      <td>NaN</td>\n",
       "      <td>mod</td>\n",
       "      <td>20181128</td>\n",
       "      <td>210</td>\n",
       "      <td>T1</td>\n",
       "      <td>E7</td>\n",
       "      <td>8.0</td>\n",
       "      <td>21.0</td>\n",
       "    </tr>\n",
       "  </tbody>\n",
       "</table>\n",
       "<p>5 rows × 24 columns</p>\n",
       "</div>"
      ],
      "text/plain": [
       "  location_estimate  slice_number  horizontal_cross_sec  vertical_cross_sec  \\\n",
       "0                T6          12.0                  2.84                2.68   \n",
       "1                T6          12.0                   NaN                 NaN   \n",
       "2                T6          12.0                  2.95                2.42   \n",
       "3                T6          12.0                   NaN                 NaN   \n",
       "4                T6          28.0                  3.05                2.35   \n",
       "\n",
       "   GM_area_cm2  GM_voxel  GM_mean   sd_gm  minimum_gm  maximum_gm  ...  \\\n",
       "0         0.02     269.0   1650.0  138.00      1450.0      2560.0  ...   \n",
       "1         0.02     380.0     51.8    6.76         0.0        67.4  ...   \n",
       "2         0.02     242.0   1560.0  140.00       692.0      2220.0  ...   \n",
       "3         0.02     391.0    102.0   49.80         0.0       359.0  ...   \n",
       "4         0.02     228.0   1540.0  352.00         0.0      2620.0  ...   \n",
       "\n",
       "   minimum_wm  maximum_wm  comments  group      date   id acquisition scan  \\\n",
       "0         0.0      4650.0       NaN    sev  20181218  198          T1   E8   \n",
       "1         0.0       175.0       NaN    sev  20181218  198          T2   E9   \n",
       "2         0.0      3080.0       NaN    sev  20181219  198          T1   E7   \n",
       "3         0.0       611.0       NaN    sev  20181219  198          T2   E8   \n",
       "4         0.0      3180.0       NaN    mod  20181128  210          T1   E7   \n",
       "\n",
       "  BBB_day1  BBB_day84  \n",
       "0      1.5       11.0  \n",
       "1      1.5       11.0  \n",
       "2      1.5       11.0  \n",
       "3      1.5       11.0  \n",
       "4      8.0       21.0  \n",
       "\n",
       "[5 rows x 24 columns]"
      ]
     },
     "execution_count": 2,
     "metadata": {},
     "output_type": "execute_result"
    }
   ],
   "source": [
    "folders = {}\n",
    "folders['main'] = '/mnt/c/Users/felix/OneDrive/WORK/2019ETH/Analysis'   \n",
    "folders['excel'] = r'AllDimitir_WM_GM_ for_C6_T6_Fsc.xlsx'   # I add comments in there\n",
    "\n",
    "df = r.getExcel(os.path.join(folders['main'],folders['excel']))\n",
    "df = r.cleanup_dimitri(df)\n",
    "\n",
    "# also insert BBB behavioral data:\n",
    "folders['BBB'] = r'/mnt/c/Users/felix/OneDrive/WORK/2019ETH/Analysis/FromZsofia/Copy of Budde_SCIDTI_Cohort1_Data.xlsx'\n",
    "df = r.insert_BBB_data(df, folders['BBB'])\n",
    "\n",
    "df.head()"
   ]
  },
  {
   "cell_type": "code",
   "execution_count": 3,
   "metadata": {},
   "outputs": [
    {
     "data": {
      "text/plain": [
       "Index(['location_estimate', 'slice_number', 'horizontal_cross_sec',\n",
       "       'vertical_cross_sec', 'GM_area_cm2', 'GM_voxel', 'GM_mean', 'sd_gm',\n",
       "       'minimum_gm', 'maximum_gm', 'WM_area_cm2', 'WM_voxel', 'WM_mean',\n",
       "       'sd_wm', 'minimum_wm', 'maximum_wm', 'comments', 'group', 'date', 'id',\n",
       "       'acquisition', 'scan', 'BBB_day1', 'BBB_day84'],\n",
       "      dtype='object')"
      ]
     },
     "execution_count": 3,
     "metadata": {},
     "output_type": "execute_result"
    }
   ],
   "source": [
    "# display details of a specific animal:\n",
    "df[(df['id'] == 196)]\n",
    "df.columns"
   ]
  },
  {
   "cell_type": "code",
   "execution_count": 4,
   "metadata": {},
   "outputs": [
    {
     "name": "stdout",
     "output_type": "stream",
     "text": [
      "Any NaNs?  True\n",
      "removed outliers for column: WM_mean \n",
      "    comments   id\n",
      "40      NaN  221\n",
      "removed outliers for column: GM_mean \n",
      "    comments   id\n",
      "40      NaN  221\n",
      "60      NaN  239\n",
      "removed outliers for column: WM_voxel \n",
      "                  comments   id\n",
      "30  heavy artifacts in WM  212\n",
      "removed outliers for column: WM_mean \n",
      "    comments   id\n",
      "40      NaN  221\n",
      "Any NaNs?  True\n",
      "removed outliers for column: WM_mean \n",
      "    comments   id\n",
      "4       NaN  210\n",
      "64      NaN  239\n",
      "removed outliers for column: GM_mean \n",
      "    comments   id\n",
      "64      NaN  239\n",
      "removed outliers for column: WM_voxel \n",
      " Empty DataFrame\n",
      "Columns: [comments, id]\n",
      "Index: []\n",
      "removed outliers for column: WM_mean \n",
      "    comments   id\n",
      "4       NaN  210\n",
      "64      NaN  239\n",
      "70      NaN  229\n",
      "Any NaNs?  True\n",
      "removed outliers for column: WM_mean \n",
      "    comments   id\n",
      "61      NaN  239\n",
      "75      NaN  220\n",
      "removed outliers for column: GM_mean \n",
      "    comments   id\n",
      "61      NaN  239\n",
      "removed outliers for column: WM_voxel \n",
      "    comments   id\n",
      "59      NaN  202\n",
      "removed outliers for column: WM_mean \n",
      "    comments   id\n",
      "47      NaN  193\n",
      "61      NaN  239\n",
      "75      NaN  220\n",
      "Any NaNs?  True\n",
      "removed outliers for column: WM_mean \n",
      "   comments   id\n",
      "5      NaN  210\n",
      "removed outliers for column: GM_mean \n",
      "   comments   id\n",
      "5      NaN  210\n",
      "removed outliers for column: WM_voxel \n",
      "           comments   id\n",
      "57  some artifacts  202\n",
      "removed outliers for column: WM_mean \n",
      "   comments   id\n",
      "3      NaN  198\n",
      "5      NaN  210\n"
     ]
    },
    {
     "data": {
      "text/html": [
       "<div>\n",
       "<style scoped>\n",
       "    .dataframe tbody tr th:only-of-type {\n",
       "        vertical-align: middle;\n",
       "    }\n",
       "\n",
       "    .dataframe tbody tr th {\n",
       "        vertical-align: top;\n",
       "    }\n",
       "\n",
       "    .dataframe thead th {\n",
       "        text-align: right;\n",
       "    }\n",
       "</style>\n",
       "<table border=\"1\" class=\"dataframe\">\n",
       "  <thead>\n",
       "    <tr style=\"text-align: right;\">\n",
       "      <th></th>\n",
       "      <th>group</th>\n",
       "      <th>id</th>\n",
       "      <th>GM_mean</th>\n",
       "      <th>GM_voxel</th>\n",
       "      <th>WM_voxel</th>\n",
       "      <th>WM_mean</th>\n",
       "      <th>horizontal_cross_sec</th>\n",
       "      <th>vertical_cross_sec</th>\n",
       "      <th>BBB_day1</th>\n",
       "      <th>BBB_day84</th>\n",
       "    </tr>\n",
       "  </thead>\n",
       "  <tbody>\n",
       "    <tr>\n",
       "      <th>7</th>\n",
       "      <td>mod</td>\n",
       "      <td>210</td>\n",
       "      <td>67.6</td>\n",
       "      <td>742.0</td>\n",
       "      <td>1453.0</td>\n",
       "      <td>92.5</td>\n",
       "      <td>NaN</td>\n",
       "      <td>NaN</td>\n",
       "      <td>8.0</td>\n",
       "      <td>21.0</td>\n",
       "    </tr>\n",
       "    <tr>\n",
       "      <th>11</th>\n",
       "      <td>mod</td>\n",
       "      <td>213</td>\n",
       "      <td>53.6</td>\n",
       "      <td>749.0</td>\n",
       "      <td>1464.0</td>\n",
       "      <td>59.1</td>\n",
       "      <td>NaN</td>\n",
       "      <td>NaN</td>\n",
       "      <td>8.0</td>\n",
       "      <td>17.0</td>\n",
       "    </tr>\n",
       "    <tr>\n",
       "      <th>13</th>\n",
       "      <td>mod</td>\n",
       "      <td>214</td>\n",
       "      <td>47.4</td>\n",
       "      <td>672.0</td>\n",
       "      <td>1498.0</td>\n",
       "      <td>52.9</td>\n",
       "      <td>NaN</td>\n",
       "      <td>NaN</td>\n",
       "      <td>12.0</td>\n",
       "      <td>16.0</td>\n",
       "    </tr>\n",
       "    <tr>\n",
       "      <th>19</th>\n",
       "      <td>sev</td>\n",
       "      <td>196</td>\n",
       "      <td>49.8</td>\n",
       "      <td>777.0</td>\n",
       "      <td>1698.0</td>\n",
       "      <td>58.4</td>\n",
       "      <td>NaN</td>\n",
       "      <td>NaN</td>\n",
       "      <td>1.0</td>\n",
       "      <td>9.0</td>\n",
       "    </tr>\n",
       "    <tr>\n",
       "      <th>23</th>\n",
       "      <td>sham</td>\n",
       "      <td>194</td>\n",
       "      <td>53.8</td>\n",
       "      <td>744.0</td>\n",
       "      <td>1621.0</td>\n",
       "      <td>59.0</td>\n",
       "      <td>NaN</td>\n",
       "      <td>NaN</td>\n",
       "      <td>20.0</td>\n",
       "      <td>21.0</td>\n",
       "    </tr>\n",
       "  </tbody>\n",
       "</table>\n",
       "</div>"
      ],
      "text/plain": [
       "   group   id  GM_mean  GM_voxel  WM_voxel  WM_mean  horizontal_cross_sec  \\\n",
       "7    mod  210     67.6     742.0    1453.0     92.5                   NaN   \n",
       "11   mod  213     53.6     749.0    1464.0     59.1                   NaN   \n",
       "13   mod  214     47.4     672.0    1498.0     52.9                   NaN   \n",
       "19   sev  196     49.8     777.0    1698.0     58.4                   NaN   \n",
       "23  sham  194     53.8     744.0    1621.0     59.0                   NaN   \n",
       "\n",
       "    vertical_cross_sec  BBB_day1  BBB_day84  \n",
       "7                  NaN       8.0       21.0  \n",
       "11                 NaN       8.0       17.0  \n",
       "13                 NaN      12.0       16.0  \n",
       "19                 NaN       1.0        9.0  \n",
       "23                 NaN      20.0       21.0  "
      ]
     },
     "execution_count": 4,
     "metadata": {},
     "output_type": "execute_result"
    }
   ],
   "source": [
    "# New: load multiple contrasts and segments at once.\n",
    "\n",
    "def nested_dict(n, type):\n",
    "    if n == 1:\n",
    "        return defaultdict(type)\n",
    "    else:\n",
    "        return defaultdict(lambda: nested_dict(n-1, type))\n",
    "\n",
    "\n",
    "    \n",
    "alldata = nested_dict(2, float) # see: https://stackoverflow.com/questions/29348345/declaring-a-multi-dimensional-dictionary-in-python\n",
    "contrasts = ['T1','T2']\n",
    "segments = ['C6','T6']\n",
    "for contrast in contrasts:\n",
    "    for segment in segments:\n",
    "        alldata[contrast][segment] = []\n",
    "\n",
    "# Select columns of general interest for analysis\n",
    "columns = ['group', 'id', 'GM_mean','GM_voxel','WM_voxel','WM_mean',\n",
    "           'horizontal_cross_sec', 'vertical_cross_sec',\n",
    "           'BBB_day1','BBB_day84']\n",
    "\n",
    "testcols = ['WM_mean', 'GM_mean', 'WM_voxel', 'WM_mean'] # for which columns should outliers be removed/replaced by NaN?\n",
    "\n",
    "\n",
    "for contrast in contrasts:\n",
    "    for segment in segments:\n",
    "        _temp = r.contrast_segment_selection_str(df, contrast, segment, columns)\n",
    "        alldata[contrast][segment] = r.outlier_removal(_temp, df, testcols, SD_cutoff=2)\n",
    "\n",
    "\n",
    "# \n",
    "\n",
    "alldata['T2']['C6'].head()"
   ]
  },
  {
   "cell_type": "code",
   "execution_count": 5,
   "metadata": {
    "scrolled": false
   },
   "outputs": [
    {
     "data": {
      "application/vnd.jupyter.widget-view+json": {
       "model_id": "0ed172d6f90f4f5e88bb58ccb0ea6d3d",
       "version_major": 2,
       "version_minor": 0
      },
      "text/plain": [
       "interactive(children=(Dropdown(description='contrast', options=('T1', 'T2'), value='T1'), Dropdown(description…"
      ]
     },
     "metadata": {},
     "output_type": "display_data"
    },
    {
     "data": {
      "application/vnd.jupyter.widget-view+json": {
       "model_id": "d3068c06da984f4c8afbdbe148266202",
       "version_major": 2,
       "version_minor": 0
      },
      "text/plain": [
       "interactive(children=(Dropdown(description='contrast', options=('T1', 'T2'), value='T1'), Dropdown(description…"
      ]
     },
     "metadata": {},
     "output_type": "display_data"
    }
   ],
   "source": [
    "# BBB vs. parameters, interactive version NEW.\n",
    "\n",
    "import scipy.stats as stats\n",
    "\n",
    "from ipywidgets import interact, fixed\n",
    "import warnings\n",
    "\n",
    "sns.set(style=\"ticks\", font_scale=1.2)\n",
    "\n",
    "def jointplot_corr(dfall, contrast, segment, x, y):\n",
    "    \"\"\"\n",
    "    x and y are two columns within df.\n",
    "    \"\"\"\n",
    "    warnings.filterwarnings(\"ignore\")\n",
    "    df = dfall[contrast][segment]\n",
    "    try:\n",
    "        g = sns.jointplot(x, y, data=df, kind=\"reg\", color=\"b\", height=7,\n",
    "                       xlim=(np.round(0.95*df[x].min()-1), 1.05*df[x].max()+1),\n",
    "                       ylim=(np.round(0.95*df[y].min()-1), 1.05*df[y].max()+1))\n",
    "#                         .set_axis_labels(\"x\", \"y\")) #add ( at beginning (sns...\n",
    "        g.annotate(stats.pearsonr)\n",
    "#     plt.show()\n",
    "\n",
    "    except TypeError:\n",
    "        print('column selection invalid')\n",
    "\n",
    "ii1 = interact(jointplot_corr, dfall=fixed(alldata), contrast=contrasts,\n",
    "         segment=segments, x=columns[2:], y=columns[2:]);\n",
    " \n",
    "ii2 = interact(jointplot_corr, dfall=fixed(alldata), contrast=contrasts,\n",
    "         segment=segments, x=columns[2:], y=columns[2:]);    \n",
    "# alldata[contrast][segment]"
   ]
  },
  {
   "cell_type": "code",
   "execution_count": 100,
   "metadata": {},
   "outputs": [
    {
     "ename": "NameError",
     "evalue": "name 'test123123' is not defined",
     "output_type": "error",
     "traceback": [
      "\u001b[0;31m---------------------------------------------------------------------------\u001b[0m",
      "\u001b[0;31mNameError\u001b[0m                                 Traceback (most recent call last)",
      "\u001b[0;32m<ipython-input-100-c520902e590e>\u001b[0m in \u001b[0;36m<module>\u001b[0;34m\u001b[0m\n\u001b[0;32m----> 1\u001b[0;31m \u001b[0mtest123123\u001b[0m\u001b[0;34m\u001b[0m\u001b[0;34m\u001b[0m\u001b[0m\n\u001b[0m",
      "\u001b[0;31mNameError\u001b[0m: name 'test123123' is not defined"
     ]
    }
   ],
   "source": [
    "test123123"
   ]
  },
  {
   "cell_type": "code",
   "execution_count": 21,
   "metadata": {},
   "outputs": [
    {
     "data": {
      "text/plain": [
       "group\n",
       "mild    [1610.0, 1620.0, 1650.0, 1690.0, 1620.0]\n",
       "mod                     [1690.0, 1750.0, 1640.0]\n",
       "sev                     [1490.0, 1620.0, 1590.0]\n",
       "sham    [1600.0, 1710.0, 1750.0, 1680.0, 1670.0]\n",
       "Name: GM_mean, dtype: object"
      ]
     },
     "execution_count": 21,
     "metadata": {},
     "output_type": "execute_result"
    }
   ],
   "source": [
    "df=alldata['T1']['C6']\n",
    "\n",
    "df.dropna(subset=['GM_mean'], inplace=True)\n",
    "groupedData = df.groupby('group')['GM_mean'].apply(list)\n",
    "\n",
    "\n",
    "groupedData"
   ]
  },
  {
   "cell_type": "code",
   "execution_count": 23,
   "metadata": {},
   "outputs": [
    {
     "data": {
      "application/vnd.jupyter.widget-view+json": {
       "model_id": "6aaf93ae42574c918a69377eb571700c",
       "version_major": 2,
       "version_minor": 0
      },
      "text/plain": [
       "interactive(children=(Dropdown(description='contrast', options=('T1', 'T2'), value='T1'), Dropdown(description…"
      ]
     },
     "metadata": {},
     "output_type": "display_data"
    }
   ],
   "source": [
    "## interactive version of box plots\n",
    "sns.set(style=\"whitegrid\", font_scale=1.2)\n",
    "\n",
    "def plot_boxplots_interactive(dfall, contrast, segment, columnI):\n",
    "    df = dfall[contrast][segment]\n",
    "    \n",
    "    df.dropna(subset=[columnI], inplace=True)   #<--crucial for ANOVA!\n",
    "    #why not dropping earlier? because now we look at only one column. For all others, the animal is still used.\n",
    "    \n",
    "    defpal = sns.color_palette(\"tab10\")\n",
    "    newPal = dict(sham = defpal[2], mild = defpal[0], mod = defpal[1], sev = defpal[3])\n",
    "    \n",
    "    plt.figure(figsize=(7,7))\n",
    "    sns.boxplot(x=\"group\", y=columnI, data=df, order=['sham', 'mild', 'mod', 'sev'], palette=newPal)\n",
    "    sns.despine(trim=False, left=True)\n",
    "\n",
    "    # ANOVA part:\n",
    "    groupedData = df.groupby('group')[columnI].apply(list)\n",
    "    groupedData.fillna(0, inplace=True)\n",
    "    groupedData.replace({'NaN',9000}, inplace=True)\n",
    "    F, p = ss.f_oneway(*groupedData)\n",
    "    print(f\"ANOVA for {columnI}: F = {F}, p = {p}\")\n",
    "\n",
    "\n",
    "ii1 = interact(plot_boxplots_interactive, dfall=fixed(alldata), contrast=contrasts,\n",
    "         segment=segments, columnI=columns[2:]); # cropped column list to remove Id, group"
   ]
  },
  {
   "cell_type": "code",
   "execution_count": 152,
   "metadata": {
    "scrolled": false
   },
   "outputs": [
    {
     "data": {
      "image/png": "[encoded data removed]",
      "text/plain": [
       "<Figure size 1040x480 with 2 Axes>"
      ]
     },
     "metadata": {},
     "output_type": "display_data"
    },
    {
     "name": "stdout",
     "output_type": "stream",
     "text": [
      "ANOVA for GM_mean: F = 0.27662963938975726, p = 0.8412456608182854\n",
      "ANOVA for WM_mean: F = 0.8578115085206979, p = 0.4873015916431058\n"
     ]
    },
    {
     "data": {
      "image/png": "[encoded data removed]",
      "text/plain": [
       "<Figure size 1040x480 with 2 Axes>"
      ]
     },
     "metadata": {},
     "output_type": "display_data"
    },
    {
     "name": "stdout",
     "output_type": "stream",
     "text": [
      "ANOVA for GM_voxel: F = 3.6644203836762723, p = 0.04115214362014575\n",
      "ANOVA for WM_voxel: F = 3.3963347708885916, p = 0.05055558327872449\n"
     ]
    }
   ],
   "source": [
    "# pandas does not allow order of boxes to be modiefied (sham, mild, etc...)\n",
    "# def boxplots_horizontal2(df, columnsOfInterest, xgroup='group'):\n",
    "#     fig, ax = plt.subplots(1, len(columnsOfInterest), figsize=(13, 6))\n",
    "#     for i, columni in enumerate(columnsOfInterest):\n",
    "#         df.boxplot(column = columni, by = xgroup, ax=ax[i], fontsize=14, grid=True)\n",
    "#     plt.show()\n",
    "\n",
    "    \n",
    "def boxplots_horizontal(df, columnsOfInterest, xgroup='group'):\n",
    "    sns.set(style=\"whitegrid\")\n",
    "    defpal = sns.color_palette(\"tab10\")\n",
    "    newPal = dict(sham = defpal[2], mild = defpal[0], mod = defpal[1], sev = defpal[3])\n",
    "    \n",
    "    fig, ax = plt.subplots(1, len(columnsOfInterest), figsize=(13, 6))\n",
    "    for i, columni in enumerate(columnsOfInterest):\n",
    "        sns.boxplot(ax=ax[i], x=\"group\", y=columni, data=df, order=['sham', 'mild', 'mod', 'sev'], palette=newPal)\n",
    "#     ax = sns.swarmplot(x=\"group\", y=\"GM_mean\", data=df, color=\".25\", order=['sham', 'mild', 'mod', 'sev'])\n",
    "    plt.show()\n",
    "    \n",
    "    \n",
    "# ANOVA\n",
    "def simple_anovas(df, columnsOfInterest, groupy='group'):\n",
    "    for columni in columnsOfInterest:\n",
    "        groupedData = df.groupby(groupy)[columni].apply(list)\n",
    "#         print(groupedData)\n",
    "        F, p = ss.f_oneway(*groupedData)\n",
    "        print(f\"ANOVA for {columni}: F = {F}, p = {p}\")\n",
    "    \n",
    "    \n",
    "# execute this for each line\n",
    "columnsOfInterest = ['GM_mean', 'WM_mean']\n",
    "boxplots_horizontal(df_selection, columnsOfInterest) \n",
    "simple_anovas(df_selection, columnsOfInterest)\n",
    "\n",
    "columnsOfInterest = ['GM_voxel', 'WM_voxel']\n",
    "boxplots_horizontal(df_selection, columnsOfInterest)\n",
    "simple_anovas(df_selection, columnsOfInterest)\n",
    "\n",
    "if selection['contrast'] == 'T1':\n",
    "    columnsOfInterest = ['horizontal_cross_sec', 'vertical_cross_sec']\n",
    "    boxplots_horizontal(df_selection, columnsOfInterest)\n",
    "    simple_anovas(df_selection, columnsOfInterest)"
   ]
  },
  {
   "cell_type": "markdown",
   "metadata": {},
   "source": [
    "## Below mostly obsolete code"
   ]
  },
  {
   "cell_type": "code",
   "execution_count": 45,
   "metadata": {},
   "outputs": [
    {
     "name": "stdout",
     "output_type": "stream",
     "text": [
      "['Solarize_Light2', '_classic_test', 'bmh', 'classic', 'dark_background', 'fast', 'fivethirtyeight', 'ggplot', 'grayscale', 'seaborn-bright', 'seaborn-colorblind', 'seaborn-dark-palette', 'seaborn-dark', 'seaborn-darkgrid', 'seaborn-deep', 'seaborn-muted', 'seaborn-notebook', 'seaborn-paper', 'seaborn-pastel', 'seaborn-poster', 'seaborn-talk', 'seaborn-ticks', 'seaborn-white', 'seaborn-whitegrid', 'seaborn', 'tableau-colorblind10']\n"
     ]
    }
   ],
   "source": [
    "import matplotlib.style as mps\n",
    "print(mps.available)\n",
    "\n",
    "# mps.use('fivethirtyeight') \n",
    "# mps.use('') "
   ]
  },
  {
   "cell_type": "code",
   "execution_count": null,
   "metadata": {},
   "outputs": [],
   "source": [
    "# old code for a single contrast and segment below:\n",
    "\n",
    "selection = {}\n",
    "selection['contrast'] = 'T2'\n",
    "selection['segment'] = 'T6'\n",
    "\n",
    "\n",
    "# Select columns of general interest of data for analysis\n",
    "columns = ['group', 'id', 'GM_mean','GM_voxel','WM_voxel','WM_mean',\n",
    "           'horizontal_cross_sec', 'vertical_cross_sec',\n",
    "           'BBB_day1','BBB_day84']\n",
    "\n",
    "\n",
    "testcols = ['WM_mean', 'GM_mean', 'WM_voxel', 'WM_mean'] # for which columns should outliers be removed/replaced by NaN?\n",
    "df_selection = r.contrast_segment_selection(df, selection, columns)\n",
    "df_selection = r.outlier_removal(df_selection, df, testcols, SD_cutoff=2)\n",
    "\n",
    "df_selection.head()"
   ]
  },
  {
   "cell_type": "code",
   "execution_count": null,
   "metadata": {},
   "outputs": [],
   "source": [
    "# Not really meaningful anymore... main purpose would be to check for correlations between several variables.\n",
    "\n",
    "import seaborn as sns\n",
    "\n",
    "sns.set(style=\"ticks\")\n",
    "\n",
    "def pairplot_singleDF(df_selection, selection, columns):\n",
    "    # sns.palplot(sns.color_palette())  # visualize the current palette\n",
    "    defpal = sns.color_palette(\"tab10\")\n",
    "    newPal = dict(sham = defpal[2], mild = defpal[0], mod = defpal[1], sev = defpal[3])\n",
    "\n",
    "\n",
    "    df_plot = df_selection.drop(['id'], axis=1)\n",
    "\n",
    "    # optional code to demean data columns:\n",
    "    # df_plot = df_selection.drop(['id','group'], axis=1)\n",
    "    # df_plot = df_plot - df_plot.mean() \n",
    "    # df_plot['group'] = df_selection['group']\n",
    "\n",
    "#     sns.set(style=\"ticks\", font_scale=1.2)\n",
    "    # ax = sns.pairplot(df_plot, hue=\"group\", kind=\"reg\")\n",
    "    ax = sns.pairplot(df_plot, hue=\"group\", vars=columns, palette=newPal)\n",
    "    sns.despine(trim=True, left=True)\n",
    "    ax.fig.suptitle(f\"contrast: {selection['contrast']},  segment: {selection['segment']}\", y=1.05);\n",
    "    plt.show()          \n",
    "                    \n",
    "pairplot_singleDF(df_selection, selection, ['GM_mean','WM_mean'])     \n",
    "pairplot_singleDF(df_selection, selection, ['WM_voxel','GM_voxel'])\n",
    "if selection['contrast'] == 'T1':\n",
    "    pairplot_singleDF(df_selection, selection, ['horizontal_cross_sec','vertical_cross_sec'])      "
   ]
  },
  {
   "cell_type": "code",
   "execution_count": null,
   "metadata": {},
   "outputs": [],
   "source": [
    "# use BBB scores instead of cateogries   (old single plot version)\n",
    "\n",
    "import scipy.stats as stats\n",
    "import warnings\n",
    "\n",
    "def jointplot_corr(df, x, y):\n",
    "    \"\"\"\n",
    "    x and y are two columns within df.\n",
    "    \"\"\"\n",
    "    warnings.filterwarnings(\"ignore\")\n",
    "    g = sns.jointplot(x, y, data=df, kind=\"reg\", color=\"b\", height=7,\n",
    "                       xlim=(df[x].min()-1, df[x].max()+1),\n",
    "                       ylim=(np.round(0.95*df[y].min()), 1.05*df[y].max()))\n",
    "#                         .set_axis_labels(\"x\", \"y\")) #add ( at beginning (sns...\n",
    "    g.annotate(stats.pearsonr)\n",
    "    plt.show()\n",
    "    \n",
    "\n",
    "jointplot_corr(df_selection, 'BBB_day1', 'GM_mean')\n",
    "jointplot_corr(df_selection, 'BBB_day1', 'WM_mean')\n",
    "                        \n",
    "# jointplot_corr(df_selection, 'BBB_day84', 'GM_mean')  # <-- values skewed to 21, not useful.\n",
    "# jointplot_corr(df_selection, 'BBB_day84', 'WM_mean')\n",
    "\n",
    "# jointplot_corr(df_selection, 'BBB_day1', 'GM_voxel')\n",
    "# jointplot_corr(df_selection, 'BBB_day1', 'WM_voxel')"
   ]
  },
  {
   "cell_type": "code",
   "execution_count": 42,
   "metadata": {},
   "outputs": [
    {
     "data": {
      "application/vnd.jupyter.widget-view+json": {
       "model_id": "62beae7d5e9b46d4ad61a1f93e2c3027",
       "version_major": 2,
       "version_minor": 0
      },
      "text/plain": [
       "interactive(children=(Dropdown(description='x', options=(('T1', 'T1'), ('T2values', 'T2values')), value='T1'),…"
      ]
     },
     "metadata": {},
     "output_type": "display_data"
    }
   ],
   "source": [
    "from ipywidgets import interact\n",
    "\n",
    "\n",
    "def f(x):\n",
    "    print(f'contrast is: {x}')\n",
    "\n",
    "interact(f, x=[('T1', 'T1values'), ('T2', 'T2values')]);"
   ]
  },
  {
   "cell_type": "code",
   "execution_count": 32,
   "metadata": {},
   "outputs": [
    {
     "name": "stderr",
     "output_type": "stream",
     "text": [
      "/home/felix/miniconda3/envs/python37/lib/python3.7/site-packages/scipy/stats/stats.py:1416: UserWarning: kurtosistest only valid for n>=20 ... continuing anyway, n=16\n",
      "  \"anyway, n=%i\" % int(n))\n"
     ]
    },
    {
     "ename": "ValueError",
     "evalue": "shapes (16,4) and (16,4) not aligned: 4 (dim 1) != 16 (dim 0)",
     "output_type": "error",
     "traceback": [
      "\u001b[0;31m---------------------------------------------------------------------------\u001b[0m",
      "\u001b[0;31mValueError\u001b[0m                                Traceback (most recent call last)",
      "\u001b[0;32m<ipython-input-32-1e275a50c3a1>\u001b[0m in \u001b[0;36m<module>\u001b[0;34m\u001b[0m\n\u001b[1;32m      3\u001b[0m \u001b[0mres\u001b[0m \u001b[0;34m=\u001b[0m \u001b[0mmod\u001b[0m\u001b[0;34m.\u001b[0m\u001b[0mfit\u001b[0m\u001b[0;34m(\u001b[0m\u001b[0;34m)\u001b[0m  \u001b[0;31m# Fit model\u001b[0m\u001b[0;34m\u001b[0m\u001b[0;34m\u001b[0m\u001b[0m\n\u001b[1;32m      4\u001b[0m \u001b[0;34m\u001b[0m\u001b[0m\n\u001b[0;32m----> 5\u001b[0;31m \u001b[0mprint\u001b[0m\u001b[0;34m(\u001b[0m\u001b[0mres\u001b[0m\u001b[0;34m.\u001b[0m\u001b[0msummary\u001b[0m\u001b[0;34m(\u001b[0m\u001b[0;34m)\u001b[0m\u001b[0;34m)\u001b[0m  \u001b[0;31m#Summarize model\u001b[0m\u001b[0;34m\u001b[0m\u001b[0;34m\u001b[0m\u001b[0m\n\u001b[0m",
      "\u001b[0;32m~/miniconda3/envs/python37/lib/python3.7/site-packages/statsmodels/regression/linear_model.py\u001b[0m in \u001b[0;36msummary\u001b[0;34m(self, yname, xname, title, alpha)\u001b[0m\n\u001b[1;32m   2374\u001b[0m             \u001b[0mtop_left\u001b[0m\u001b[0;34m.\u001b[0m\u001b[0mappend\u001b[0m\u001b[0;34m(\u001b[0m\u001b[0;34m(\u001b[0m\u001b[0;34m'Covariance Type:'\u001b[0m\u001b[0;34m,\u001b[0m \u001b[0;34m[\u001b[0m\u001b[0mself\u001b[0m\u001b[0;34m.\u001b[0m\u001b[0mcov_type\u001b[0m\u001b[0;34m]\u001b[0m\u001b[0;34m)\u001b[0m\u001b[0;34m)\u001b[0m\u001b[0;34m\u001b[0m\u001b[0;34m\u001b[0m\u001b[0m\n\u001b[1;32m   2375\u001b[0m \u001b[0;34m\u001b[0m\u001b[0m\n\u001b[0;32m-> 2376\u001b[0;31m         top_right = [('R-squared:', [\"%#8.3f\" % self.rsquared]),\n\u001b[0m\u001b[1;32m   2377\u001b[0m                      \u001b[0;34m(\u001b[0m\u001b[0;34m'Adj. R-squared:'\u001b[0m\u001b[0;34m,\u001b[0m \u001b[0;34m[\u001b[0m\u001b[0;34m\"%#8.3f\"\u001b[0m \u001b[0;34m%\u001b[0m \u001b[0mself\u001b[0m\u001b[0;34m.\u001b[0m\u001b[0mrsquared_adj\u001b[0m\u001b[0;34m]\u001b[0m\u001b[0;34m)\u001b[0m\u001b[0;34m,\u001b[0m\u001b[0;34m\u001b[0m\u001b[0;34m\u001b[0m\u001b[0m\n\u001b[1;32m   2378\u001b[0m                      \u001b[0;34m(\u001b[0m\u001b[0;34m'F-statistic:'\u001b[0m\u001b[0;34m,\u001b[0m \u001b[0;34m[\u001b[0m\u001b[0;34m\"%#8.4g\"\u001b[0m \u001b[0;34m%\u001b[0m \u001b[0mself\u001b[0m\u001b[0;34m.\u001b[0m\u001b[0mfvalue\u001b[0m\u001b[0;34m]\u001b[0m\u001b[0;34m)\u001b[0m\u001b[0;34m,\u001b[0m\u001b[0;34m\u001b[0m\u001b[0;34m\u001b[0m\u001b[0m\n",
      "\u001b[0;32m~/miniconda3/envs/python37/lib/python3.7/site-packages/statsmodels/tools/decorators.py\u001b[0m in \u001b[0;36m__get__\u001b[0;34m(self, obj, type)\u001b[0m\n\u001b[1;32m     95\u001b[0m         \u001b[0;32mif\u001b[0m \u001b[0m_cachedval\u001b[0m \u001b[0;32mis\u001b[0m \u001b[0;32mNone\u001b[0m\u001b[0;34m:\u001b[0m\u001b[0;34m\u001b[0m\u001b[0;34m\u001b[0m\u001b[0m\n\u001b[1;32m     96\u001b[0m             \u001b[0;31m# Call the \"fget\" function\u001b[0m\u001b[0;34m\u001b[0m\u001b[0;34m\u001b[0m\u001b[0;34m\u001b[0m\u001b[0m\n\u001b[0;32m---> 97\u001b[0;31m             \u001b[0m_cachedval\u001b[0m \u001b[0;34m=\u001b[0m \u001b[0mself\u001b[0m\u001b[0;34m.\u001b[0m\u001b[0mfget\u001b[0m\u001b[0;34m(\u001b[0m\u001b[0mobj\u001b[0m\u001b[0;34m)\u001b[0m\u001b[0;34m\u001b[0m\u001b[0;34m\u001b[0m\u001b[0m\n\u001b[0m\u001b[1;32m     98\u001b[0m             \u001b[0;31m# Set the attribute in obj\u001b[0m\u001b[0;34m\u001b[0m\u001b[0;34m\u001b[0m\u001b[0;34m\u001b[0m\u001b[0m\n\u001b[1;32m     99\u001b[0m             \u001b[0;31m# print(\"Setting %s in cache to %s\" % (name, _cachedval))\u001b[0m\u001b[0;34m\u001b[0m\u001b[0;34m\u001b[0m\u001b[0;34m\u001b[0m\u001b[0m\n",
      "\u001b[0;32m~/miniconda3/envs/python37/lib/python3.7/site-packages/statsmodels/regression/linear_model.py\u001b[0m in \u001b[0;36mrsquared\u001b[0;34m(self)\u001b[0m\n\u001b[1;32m   1541\u001b[0m     \u001b[0;32mdef\u001b[0m \u001b[0mrsquared\u001b[0m\u001b[0;34m(\u001b[0m\u001b[0mself\u001b[0m\u001b[0;34m)\u001b[0m\u001b[0;34m:\u001b[0m\u001b[0;34m\u001b[0m\u001b[0;34m\u001b[0m\u001b[0m\n\u001b[1;32m   1542\u001b[0m         \u001b[0;32mif\u001b[0m \u001b[0mself\u001b[0m\u001b[0;34m.\u001b[0m\u001b[0mk_constant\u001b[0m\u001b[0;34m:\u001b[0m\u001b[0;34m\u001b[0m\u001b[0;34m\u001b[0m\u001b[0m\n\u001b[0;32m-> 1543\u001b[0;31m             \u001b[0;32mreturn\u001b[0m \u001b[0;36m1\u001b[0m \u001b[0;34m-\u001b[0m \u001b[0mself\u001b[0m\u001b[0;34m.\u001b[0m\u001b[0mssr\u001b[0m\u001b[0;34m/\u001b[0m\u001b[0mself\u001b[0m\u001b[0;34m.\u001b[0m\u001b[0mcentered_tss\u001b[0m\u001b[0;34m\u001b[0m\u001b[0;34m\u001b[0m\u001b[0m\n\u001b[0m\u001b[1;32m   1544\u001b[0m         \u001b[0;32melse\u001b[0m\u001b[0;34m:\u001b[0m\u001b[0;34m\u001b[0m\u001b[0;34m\u001b[0m\u001b[0m\n\u001b[1;32m   1545\u001b[0m             \u001b[0;32mreturn\u001b[0m \u001b[0;36m1\u001b[0m \u001b[0;34m-\u001b[0m \u001b[0mself\u001b[0m\u001b[0;34m.\u001b[0m\u001b[0mssr\u001b[0m\u001b[0;34m/\u001b[0m\u001b[0mself\u001b[0m\u001b[0;34m.\u001b[0m\u001b[0muncentered_tss\u001b[0m\u001b[0;34m\u001b[0m\u001b[0;34m\u001b[0m\u001b[0m\n",
      "\u001b[0;32m~/miniconda3/envs/python37/lib/python3.7/site-packages/statsmodels/tools/decorators.py\u001b[0m in \u001b[0;36m__get__\u001b[0;34m(self, obj, type)\u001b[0m\n\u001b[1;32m     95\u001b[0m         \u001b[0;32mif\u001b[0m \u001b[0m_cachedval\u001b[0m \u001b[0;32mis\u001b[0m \u001b[0;32mNone\u001b[0m\u001b[0;34m:\u001b[0m\u001b[0;34m\u001b[0m\u001b[0;34m\u001b[0m\u001b[0m\n\u001b[1;32m     96\u001b[0m             \u001b[0;31m# Call the \"fget\" function\u001b[0m\u001b[0;34m\u001b[0m\u001b[0;34m\u001b[0m\u001b[0;34m\u001b[0m\u001b[0m\n\u001b[0;32m---> 97\u001b[0;31m             \u001b[0m_cachedval\u001b[0m \u001b[0;34m=\u001b[0m \u001b[0mself\u001b[0m\u001b[0;34m.\u001b[0m\u001b[0mfget\u001b[0m\u001b[0;34m(\u001b[0m\u001b[0mobj\u001b[0m\u001b[0;34m)\u001b[0m\u001b[0;34m\u001b[0m\u001b[0;34m\u001b[0m\u001b[0m\n\u001b[0m\u001b[1;32m     98\u001b[0m             \u001b[0;31m# Set the attribute in obj\u001b[0m\u001b[0;34m\u001b[0m\u001b[0;34m\u001b[0m\u001b[0;34m\u001b[0m\u001b[0m\n\u001b[1;32m     99\u001b[0m             \u001b[0;31m# print(\"Setting %s in cache to %s\" % (name, _cachedval))\u001b[0m\u001b[0;34m\u001b[0m\u001b[0;34m\u001b[0m\u001b[0;34m\u001b[0m\u001b[0m\n",
      "\u001b[0;32m~/miniconda3/envs/python37/lib/python3.7/site-packages/statsmodels/regression/linear_model.py\u001b[0m in \u001b[0;36mssr\u001b[0;34m(self)\u001b[0m\n\u001b[1;32m   1513\u001b[0m     \u001b[0;32mdef\u001b[0m \u001b[0mssr\u001b[0m\u001b[0;34m(\u001b[0m\u001b[0mself\u001b[0m\u001b[0;34m)\u001b[0m\u001b[0;34m:\u001b[0m\u001b[0;34m\u001b[0m\u001b[0;34m\u001b[0m\u001b[0m\n\u001b[1;32m   1514\u001b[0m         \u001b[0mwresid\u001b[0m \u001b[0;34m=\u001b[0m \u001b[0mself\u001b[0m\u001b[0;34m.\u001b[0m\u001b[0mwresid\u001b[0m\u001b[0;34m\u001b[0m\u001b[0;34m\u001b[0m\u001b[0m\n\u001b[0;32m-> 1515\u001b[0;31m         \u001b[0;32mreturn\u001b[0m \u001b[0mnp\u001b[0m\u001b[0;34m.\u001b[0m\u001b[0mdot\u001b[0m\u001b[0;34m(\u001b[0m\u001b[0mwresid\u001b[0m\u001b[0;34m,\u001b[0m \u001b[0mwresid\u001b[0m\u001b[0;34m)\u001b[0m\u001b[0;34m\u001b[0m\u001b[0;34m\u001b[0m\u001b[0m\n\u001b[0m\u001b[1;32m   1516\u001b[0m \u001b[0;34m\u001b[0m\u001b[0m\n\u001b[1;32m   1517\u001b[0m     \u001b[0;34m@\u001b[0m\u001b[0mcache_readonly\u001b[0m\u001b[0;34m\u001b[0m\u001b[0;34m\u001b[0m\u001b[0m\n",
      "\u001b[0;31mValueError\u001b[0m: shapes (16,4) and (16,4) not aligned: 4 (dim 1) != 16 (dim 0)"
     ]
    }
   ],
   "source": [
    "# statsmodels doesnt work for this kind of data... see mord or sklearn...\n",
    "# https://stackoverflow.com/questions/38549756/how-can-i-do-ordinal-regression-using-the-mord-module-in-python\n",
    "\n",
    "import statsmodels.api as sm\n",
    "from patsy import dmatrices\n",
    "\n",
    "\n",
    "# df_selection = df_selection.dropna()\n",
    "\n",
    "y, X = dmatrices(\"group ~ rm_gm + area_pu_gm + area_pu_wm + rm_wm\", data=df_selection, NA_action='drop', return_type='dataframe')\n",
    "\n",
    "\n",
    "mod = sm.OLS(y, X) # Describe model\n",
    "\n",
    "res = mod.fit()  # Fit model\n",
    "\n",
    "print(res.summary())  #Summarize model"
   ]
  }
 ],
 "metadata": {
  "kernelspec": {
   "display_name": "Python 3",
   "language": "python",
   "name": "python3"
  },
  "language_info": {
   "codemirror_mode": {
    "name": "ipython",
    "version": 3
   },
   "file_extension": ".py",
   "mimetype": "text/x-python",
   "name": "python",
   "nbconvert_exporter": "python",
   "pygments_lexer": "ipython3",
   "version": "3.7.3"
  }
 },
 "nbformat": 4,
 "nbformat_minor": 2
}
