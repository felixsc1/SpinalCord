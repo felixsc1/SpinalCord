{
 "cells": [
  {
   "cell_type": "code",
   "execution_count": 4,
   "metadata": {},
   "outputs": [],
   "source": [
    "import os, sys, shutil, glob\n",
    "# mymodules = os.fspath('/home/felix/Repos/sct/scripts')\n",
    "# if mymodules not in sys.path:\n",
    "#     sys.path.append(mymodules)\n",
    "\n",
    "mymodules = '/home/felix/Repos/sct/scripts'\n",
    "if mymodules not in sys.path:\n",
    "    sys.path.append(mymodules)\n",
    "mymodules = '/home/felix/Repos/sct'\n",
    "if mymodules not in sys.path:\n",
    "    sys.path.append(mymodules)\n",
    "    \n",
    "import spinalcordtoolbox.utils\n",
    "import sct_propseg\n",
    "\n"
   ]
  },
  {
   "cell_type": "code",
   "execution_count": 2,
   "metadata": {},
   "outputs": [
    {
     "data": {
      "text/plain": [
       "['/home/felix/Repos',\n",
       " '/home/felix/miniconda3/lib/python37.zip',\n",
       " '/home/felix/miniconda3/lib/python3.7',\n",
       " '/home/felix/miniconda3/lib/python3.7/lib-dynload',\n",
       " '',\n",
       " '/home/felix/miniconda3/lib/python3.7/site-packages',\n",
       " '/home/felix/miniconda3/lib/python3.7/site-packages/IPython/extensions',\n",
       " '/home/felix/.ipython',\n",
       " '/home/felix/Repos/sct/scripts',\n",
       " '/home/felix/Repos/sct']"
      ]
     },
     "execution_count": 2,
     "metadata": {},
     "output_type": "execute_result"
    }
   ],
   "source": [
    "# todo first:  get all methods files in every subfolder. select scans that contain relevant keywords. "
   ]
  }
 ],
 "metadata": {
  "kernelspec": {
   "display_name": "Python 2",
   "language": "python",
   "name": "python2"
  },
  "language_info": {
   "codemirror_mode": {
    "name": "ipython",
    "version": 2
   },
   "file_extension": ".py",
   "mimetype": "text/x-python",
   "name": "python",
   "nbconvert_exporter": "python",
   "pygments_lexer": "ipython2",
   "version": "2.7.15"
  }
 },
 "nbformat": 4,
 "nbformat_minor": 2
}
